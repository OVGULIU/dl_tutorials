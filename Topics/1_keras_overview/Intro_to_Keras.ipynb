{
 "cells": [
  {
   "cell_type": "markdown",
   "metadata": {},
   "source": [
    "# Intro to Keras"
   ]
  },
  {
   "cell_type": "markdown",
   "metadata": {},
   "source": [
    "## Outline\n",
    "1. Fully-connected network for MNIST classification\n",
    "2. Callbacks\n",
    "3. Saving and restoring a trained model\n",
    "4. Batch-normalization\n",
    "5. Regularization\n",
    "6. Predictions and error analysis\n",
    "7. Resources"
   ]
  },
  {
   "cell_type": "code",
   "execution_count": 1,
   "metadata": {},
   "outputs": [
    {
     "name": "stdout",
     "output_type": "stream",
     "text": [
      "Python working path: /Users/apartin/anaconda/envs/py35_tf14/bin/python\n"
     ]
    }
   ],
   "source": [
    "# Import modules\n",
    "import os\n",
    "import sys\n",
    "import numpy as np\n",
    "import pandas as pd\n",
    "import random as rn\n",
    "\n",
    "from sklearn.model_selection import train_test_split\n",
    "\n",
    "%matplotlib inline\n",
    "import matplotlib.pyplot as plt\n",
    "\n",
    "print('Python working path: {}'.format(sys.executable))"
   ]
  },
  {
   "cell_type": "code",
   "execution_count": 2,
   "metadata": {},
   "outputs": [
    {
     "name": "stderr",
     "output_type": "stream",
     "text": [
      "Using TensorFlow backend.\n"
     ]
    },
    {
     "name": "stdout",
     "output_type": "stream",
     "text": [
      "TensorFlow version: 1.4.0\n",
      "Keras version: 2.1.2\n"
     ]
    }
   ],
   "source": [
    "# Import DL modules\n",
    "import tensorflow as tf\n",
    "import keras\n",
    "print('TensorFlow version: {}'.format(tf.__version__))\n",
    "print('Keras version: {}'.format(keras.__version__))"
   ]
  },
  {
   "cell_type": "code",
   "execution_count": 3,
   "metadata": {
    "collapsed": true
   },
   "outputs": [],
   "source": [
    "# Import Keras methods\n",
    "from keras import backend as K\n",
    "from keras.models import Sequential, load_model\n",
    "from keras.layers import Dense, Activation, BatchNormalization, Dropout\n",
    "from keras import optimizers, losses, regularizers\n",
    "from keras import callbacks\n",
    "from keras.utils import to_categorical\n",
    "from keras.datasets import mnist, fashion_mnist, boston_housing"
   ]
  },
  {
   "cell_type": "code",
   "execution_count": 4,
   "metadata": {
    "collapsed": true
   },
   "outputs": [],
   "source": [
    "seed = 2018\n",
    "np.random.seed(seed)\n",
    "rn.seed(seed)"
   ]
  },
  {
   "cell_type": "markdown",
   "metadata": {},
   "source": [
    "# 1. Fully-connected network for MNIST classification"
   ]
  },
  {
   "cell_type": "markdown",
   "metadata": {},
   "source": [
    "## Action plan\n",
    "General steps for training and evaluationg a neural network in Keras:\n",
    "1. Prepare the data (get the data ready to be fed into a neural network)\n",
    "2. Create the model (define a neural network architecture)\n",
    "3. Compile the model (define the loss function and the optimizer)\n",
    "4. Train the model (train the network on the training set)\n",
    "5. Evaluate the model (on val/test data)"
   ]
  },
  {
   "cell_type": "markdown",
   "metadata": {},
   "source": [
    "The MNIST database (Modified National Institute of Standards and Technology) is an annotated (labeled) dataset of gray-scale images of handwritten digits. The digits are size-normalized (28 x 28 pixels) and centered. The dataset contain 60,000 training images and 10,000 test images.\n",
    "\n",
    "- http://yann.lecun.com/exdb/mnist/\n",
    "- https://en.wikipedia.org/wiki/MNIST_database"
   ]
  },
  {
   "cell_type": "code",
   "execution_count": 5,
   "metadata": {
    "collapsed": true
   },
   "outputs": [],
   "source": [
    "# Load the MNIST dataset\n",
    "(train_images, train_labels), (test_images, test_labels) = mnist.load_data()"
   ]
  },
  {
   "cell_type": "code",
   "execution_count": 6,
   "metadata": {},
   "outputs": [
    {
     "name": "stdout",
     "output_type": "stream",
     "text": [
      "train_images: (60000, 28, 28), uint8\n",
      "test_images:  (10000, 28, 28), uint8\n",
      "\n",
      "train_labels: (60000,), uint8\n",
      "test_labels:  (10000,), uint8\n"
     ]
    }
   ],
   "source": [
    "# Print shapes and type\n",
    "print('train_images: {}, {}'.format(train_images.shape, train_images.dtype))\n",
    "print('test_images:  {}, {}'.format(test_images.shape, test_images.dtype))\n",
    "print('\\ntrain_labels: {}, {}'.format(train_labels.shape, train_labels.dtype))\n",
    "print('test_labels:  {}, {}'.format(test_labels.shape, test_labels.dtype))"
   ]
  },
  {
   "cell_type": "code",
   "execution_count": 7,
   "metadata": {},
   "outputs": [
    {
     "data": {
      "text/plain": [
       "array([5, 0, 4, ..., 5, 6, 8], dtype=uint8)"
      ]
     },
     "execution_count": 7,
     "metadata": {},
     "output_type": "execute_result"
    }
   ],
   "source": [
    "train_labels"
   ]
  },
  {
   "cell_type": "code",
   "execution_count": 8,
   "metadata": {
    "collapsed": true
   },
   "outputs": [],
   "source": [
    "def show_mnist_images(images, titles=None):\n",
    "    \"\"\"Plot random mnist images.\"\"\"\n",
    "    f, ax = plt.subplots(1, len(images), figsize=(12, 4))\n",
    "    for i in range(len(images)):\n",
    "        ax[i].imshow(images[i].reshape(28, 28), cmap='gray')  # cmap=plt.cm.binary\n",
    "        if titles is not None:\n",
    "            ax[i].set_title('{}'.format(titles[i]), fontsize=25)"
   ]
  },
  {
   "cell_type": "code",
   "execution_count": 9,
   "metadata": {},
   "outputs": [
    {
     "data": {
      "image/png": "[encoded data removed]",
      "text/plain": [
       "<matplotlib.figure.Figure at 0x1a17439860>"
      ]
     },
     "metadata": {},
     "output_type": "display_data"
    }
   ],
   "source": [
    "n_images = 4\n",
    "inds = np.random.randint(low=0, high=len(train_images), size=n_images)\n",
    "show_mnist_images(images = train_images[inds],\n",
    "                  titles = train_labels[inds])"
   ]
  },
  {
   "cell_type": "code",
   "execution_count": 10,
   "metadata": {
    "collapsed": true
   },
   "outputs": [],
   "source": [
    "# Display python function\n",
    "show_mnist_images??"
   ]
  },
  {
   "cell_type": "code",
   "execution_count": 11,
   "metadata": {
    "collapsed": true
   },
   "outputs": [],
   "source": [
    "# Reshape images for fully-connected input layer\n",
    "train_images = train_images.reshape((60000, 28 * 28))\n",
    "test_images  = test_images.reshape((10000, 28 * 28))"
   ]
  },
  {
   "cell_type": "code",
   "execution_count": 12,
   "metadata": {
    "collapsed": true
   },
   "outputs": [],
   "source": [
    "# Split training data into training and validation data\n",
    "val_size = 0.2\n",
    "train_images, val_images, train_labels, val_labels = train_test_split(train_images, train_labels,\n",
    "                                                                      test_size=val_size, random_state=seed,\n",
    "                                                                      shuffle=True)"
   ]
  },
  {
   "cell_type": "markdown",
   "metadata": {},
   "source": [
    "### Check that the training and validation datasets are balanced"
   ]
  },
  {
   "cell_type": "code",
   "execution_count": 13,
   "metadata": {},
   "outputs": [
    {
     "data": {
      "text/plain": [
       "<matplotlib.text.Text at 0x1a1abe3a20>"
      ]
     },
     "execution_count": 13,
     "metadata": {},
     "output_type": "execute_result"
    },
    {
     "data": {
      "image/png": "[encoded data removed]",
      "text/plain": [
       "<matplotlib.figure.Figure at 0x1a17d770f0>"
      ]
     },
     "metadata": {},
     "output_type": "display_data"
    }
   ],
   "source": [
    "f, ax = plt.subplots(1, 3, figsize=(15,4))\n",
    "ax[0].hist(train_labels, rwidth=0.8); ax[0].set_title('Training')\n",
    "ax[1].hist(val_labels, rwidth=0.8);   ax[1].set_title('Validation')\n",
    "ax[2].hist(test_labels, rwidth=0.8);  ax[2].set_title('Testing')"
   ]
  },
  {
   "cell_type": "code",
   "execution_count": 14,
   "metadata": {
    "collapsed": true
   },
   "outputs": [],
   "source": [
    "# One-hot encode the target variable\n",
    "train_labels_onehot = to_categorical(train_labels)\n",
    "val_labels_onehot   = to_categorical(val_labels)\n",
    "test_labels_onehot  = to_categorical(test_labels)"
   ]
  },
  {
   "cell_type": "code",
   "execution_count": 15,
   "metadata": {},
   "outputs": [
    {
     "name": "stdout",
     "output_type": "stream",
     "text": [
      "[[ 0.  0.  0. ...,  0.  0.  0.]\n",
      " [ 0.  0.  0. ...,  0.  0.  0.]\n",
      " [ 0.  0.  0. ...,  1.  0.  0.]\n",
      " ..., \n",
      " [ 1.  0.  0. ...,  0.  0.  0.]\n",
      " [ 0.  0.  0. ...,  0.  0.  0.]\n",
      " [ 0.  0.  0. ...,  0.  0.  0.]]\n",
      "\n",
      "One-hot label of a single image:\n",
      "[ 0.  0.  0.  0.  1.  0.  0.  0.  0.  0.]\n"
     ]
    }
   ],
   "source": [
    "print(train_labels_onehot)\n",
    "\n",
    "print('\\nOne-hot label of a single image:')\n",
    "print(train_labels_onehot[0,:])"
   ]
  },
  {
   "cell_type": "code",
   "execution_count": 16,
   "metadata": {},
   "outputs": [
    {
     "name": "stdout",
     "output_type": "stream",
     "text": [
      "train_images: (48000, 784), uint8\n",
      "val_images:   (12000, 784), uint8\n",
      "test_images:  (10000, 784), uint8\n",
      "\n",
      "train_labels: (48000, 10), float64\n",
      "val_labels:   (12000, 10), float64\n",
      "test_labels:  (10000, 10), float64\n"
     ]
    }
   ],
   "source": [
    "# Print dataset after reshaping\n",
    "print('train_images: {}, {}'.format(train_images.shape, train_images.dtype))\n",
    "print('val_images:   {}, {}'.format(val_images.shape, val_images.dtype))\n",
    "print('test_images:  {}, {}'.format(test_images.shape, test_images.dtype))\n",
    "\n",
    "print('\\ntrain_labels: {}, {}'.format(train_labels_onehot.shape, train_labels_onehot.dtype))\n",
    "print('val_labels:   {}, {}'.format(val_labels_onehot.shape, val_labels_onehot.dtype))\n",
    "print('test_labels:  {}, {}'.format(test_labels_onehot.shape, test_labels_onehot.dtype))"
   ]
  },
  {
   "cell_type": "code",
   "execution_count": 17,
   "metadata": {
    "collapsed": true
   },
   "outputs": [],
   "source": [
    "# Pre-process the data (convert to float and scale)\n",
    "train_images = train_images.astype('float32') / 255\n",
    "val_images   = val_images.astype('float32') / 255\n",
    "test_images  = test_images.astype('float32') / 255"
   ]
  },
  {
   "cell_type": "markdown",
   "metadata": {},
   "source": [
    "### Define the model (neural network architecture)"
   ]
  },
  {
   "cell_type": "markdown",
   "metadata": {},
   "source": [
    "- Input layer has 784 input units as the total number of pixels in a single MNIST image (28 x 28)\n",
    "- Two hidden layers, each with 128 neurons\n",
    "- Output layer has 10 units as the number of classes [0,1,2,3,4,5,6,7,8,9]\n",
    "- $a^{l}_{j}$ is the activation of layer $l$ and neuron $j$\n",
    "\n",
    "<img src=\"figures/mnist_classifier.png\", width=50%>"
   ]
  },
  {
   "cell_type": "code",
   "execution_count": 18,
   "metadata": {
    "collapsed": true
   },
   "outputs": [],
   "source": [
    "def create_mnist_classifier(activation='relu'):\n",
    "    \"\"\"Create an MNIST classier.\"\"\"\n",
    "    model = Sequential()\n",
    "    model.add(Dense(units=128, activation=activation, input_shape=(28 * 28,)))  # 784 * 128 + 128 = 100480\n",
    "    model.add(Dense(units=128, activation=activation))  # 128 * 128 + 128 = 16512\n",
    "    model.add(Dense(units=10, activation='softmax'))  # 128 * 10 + 10 = 1290\n",
    "    return model"
   ]
  },
  {
   "cell_type": "code",
   "execution_count": 19,
   "metadata": {},
   "outputs": [
    {
     "name": "stdout",
     "output_type": "stream",
     "text": [
      "_________________________________________________________________\n",
      "Layer (type)                 Output Shape              Param #   \n",
      "=================================================================\n",
      "dense_1 (Dense)              (None, 128)               100480    \n",
      "_________________________________________________________________\n",
      "dense_2 (Dense)              (None, 128)               16512     \n",
      "_________________________________________________________________\n",
      "dense_3 (Dense)              (None, 10)                1290      \n",
      "=================================================================\n",
      "Total params: 118,282\n",
      "Trainable params: 118,282\n",
      "Non-trainable params: 0\n",
      "_________________________________________________________________\n"
     ]
    }
   ],
   "source": [
    "model = create_mnist_classifier()\n",
    "model.summary()"
   ]
  },
  {
   "cell_type": "code",
   "execution_count": 20,
   "metadata": {
    "collapsed": true
   },
   "outputs": [],
   "source": [
    "model.compile(optimizer = 'rmsprop',\n",
    "              loss = 'categorical_crossentropy',\n",
    "              metrics = ['accuracy'])"
   ]
  },
  {
   "cell_type": "code",
   "execution_count": 21,
   "metadata": {},
   "outputs": [
    {
     "name": "stdout",
     "output_type": "stream",
     "text": [
      "Train on 48000 samples, validate on 12000 samples\n",
      "Epoch 1/5\n",
      "48000/48000 [==============================] - 2s 35us/step - loss: 0.3331 - acc: 0.9031 - val_loss: 0.1816 - val_acc: 0.9452\n",
      "Epoch 2/5\n",
      "48000/48000 [==============================] - 1s 28us/step - loss: 0.1439 - acc: 0.9572 - val_loss: 0.1128 - val_acc: 0.9658\n",
      "Epoch 3/5\n",
      "48000/48000 [==============================] - 1s 26us/step - loss: 0.1002 - acc: 0.9694 - val_loss: 0.1019 - val_acc: 0.9699\n",
      "Epoch 4/5\n",
      "48000/48000 [==============================] - 1s 26us/step - loss: 0.0758 - acc: 0.9768 - val_loss: 0.0943 - val_acc: 0.9727\n",
      "Epoch 5/5\n",
      "48000/48000 [==============================] - 1s 26us/step - loss: 0.0601 - acc: 0.9814 - val_loss: 0.0848 - val_acc: 0.9748\n"
     ]
    }
   ],
   "source": [
    "# Train the model\n",
    "history = model.fit(x = train_images,\n",
    "                    y = train_labels_onehot,\n",
    "                    batch_size = 128,\n",
    "                    epochs = 5,\n",
    "                    validation_data = (val_images, val_labels_onehot),\n",
    "                    shuffle = True)  # randomly shuffles the training data for every new epoch"
   ]
  },
  {
   "cell_type": "code",
   "execution_count": 22,
   "metadata": {},
   "outputs": [
    {
     "name": "stdout",
     "output_type": "stream",
     "text": [
      "48000/48000 [==============================] - 1s 27us/step\n",
      "train_loss: 0.043535624450732335\n",
      "train_acc: 0.9866666666666667\n"
     ]
    }
   ],
   "source": [
    "# Evaluate the model on the training data\n",
    "train_loss, train_acc = model.evaluate(x = train_images,\n",
    "                                       y = train_labels_onehot)\n",
    "\n",
    "print('train_loss: {}'.format(train_loss))\n",
    "print('train_acc: {}'.format(train_acc))"
   ]
  },
  {
   "cell_type": "code",
   "execution_count": 23,
   "metadata": {},
   "outputs": [
    {
     "name": "stdout",
     "output_type": "stream",
     "text": [
      "12000/12000 [==============================] - 0s 28us/step\n",
      "val_loss: 0.08480773801620428\n",
      "val_acc: 0.97475\n"
     ]
    }
   ],
   "source": [
    "# Evaluate the model on the validation data\n",
    "val_loss, val_acc = model.evaluate(x = val_images,\n",
    "                                   y = val_labels_onehot)\n",
    "\n",
    "print('val_loss: {}'.format(val_loss))\n",
    "print('val_acc: {}'.format(val_acc))"
   ]
  },
  {
   "cell_type": "markdown",
   "metadata": {},
   "source": [
    "Take a look at the following metrics:\n",
    "- Training metrics (`loss` and `acc`) and the validation metrics (`val_loss` and `val_acc`) printed at the last training epoch\n",
    "- Training metrics (`train_loss` and `train_acc`) and the validation metrics (`val_loss` and `val_acc`) computed using the `evaluate` method after the training has been completed\n",
    "<br/>\n",
    "\n",
    "Notice that the validation values do match, while the training values do not. The reason is that `val_loss` and `val_acc` are computed using the most updated neural network model at the end of every epoch. On the other hand, `loss` and `acc` (i.e., loss and acc for the training set) are the average values across all the batches for a given epoch. "
   ]
  },
  {
   "cell_type": "code",
   "execution_count": 24,
   "metadata": {},
   "outputs": [
    {
     "name": "stdout",
     "output_type": "stream",
     "text": [
      "10000/10000 [==============================] - 0s 30us/step\n",
      "test_loss: 0.08083164437315427\n",
      "test_acc: 0.9751\n"
     ]
    }
   ],
   "source": [
    "# Evaluate the model on the test data\n",
    "test_loss, test_acc = model.evaluate(x = test_images,\n",
    "                                     y = test_labels_onehot)\n",
    "\n",
    "print('test_loss: {}'.format(test_loss))\n",
    "print('test_acc: {}'.format(test_acc))"
   ]
  },
  {
   "cell_type": "code",
   "execution_count": 25,
   "metadata": {},
   "outputs": [
    {
     "data": {
      "text/plain": [
       "dict_keys(['val_loss', 'val_acc', 'loss', 'acc'])"
      ]
     },
     "execution_count": 25,
     "metadata": {},
     "output_type": "execute_result"
    }
   ],
   "source": [
    "history.history.keys()"
   ]
  },
  {
   "cell_type": "code",
   "execution_count": 26,
   "metadata": {
    "collapsed": true
   },
   "outputs": [],
   "source": [
    "def plot_training(history):\n",
    "    epochs = np.asarray(history.epoch) + 1\n",
    "    acc = history.history['acc']\n",
    "    val_acc = history.history['val_acc']\n",
    "    loss = history.history['loss']\n",
    "    val_loss = history.history['val_loss']\n",
    "\n",
    "    plt.plot(epochs, loss, 'bo', label='loss')\n",
    "    plt.plot(epochs, val_loss, 'ro', label='val_loss')\n",
    "    plt.grid('on')\n",
    "    plt.xlabel('Epoch')\n",
    "    plt.ylabel('Loss')\n",
    "    plt.legend(loc='best')\n",
    "    plt.xlim(0, len(epochs)+1)\n",
    "    plt.ylim(0.0, 0.5)"
   ]
  },
  {
   "cell_type": "code",
   "execution_count": 27,
   "metadata": {},
   "outputs": [
    {
     "data": {
      "image/png": "[encoded data removed]",
      "text/plain": [
       "<matplotlib.figure.Figure at 0x1a242a75f8>"
      ]
     },
     "metadata": {},
     "output_type": "display_data"
    }
   ],
   "source": [
    "plot_training(history)"
   ]
  },
  {
   "cell_type": "markdown",
   "metadata": {},
   "source": [
    "# 2. Callbacks"
   ]
  },
  {
   "cell_type": "markdown",
   "metadata": {},
   "source": [
    "- Keras callbacks: https://keras.io/callbacks/\n",
    "- A callback is a set of functions that can be applied at given stages of the training procedure. You can pass a list of callbacks to the .fit() method of the model."
   ]
  },
  {
   "cell_type": "code",
   "execution_count": 28,
   "metadata": {
    "collapsed": true
   },
   "outputs": [],
   "source": [
    "model = create_mnist_classifier()\n",
    "\n",
    "model.compile(optimizer = optimizers.RMSprop(lr=0.001),  # or 'rmsprop'\n",
    "              loss = 'categorical_crossentropy',\n",
    "              metrics = ['accuracy'])"
   ]
  },
  {
   "cell_type": "code",
   "execution_count": 29,
   "metadata": {
    "collapsed": true
   },
   "outputs": [],
   "source": [
    "callbacks_list = [\n",
    "#     callbacks.EarlyStopping(monitor = 'val_loss',\n",
    "#                             min_delta = 0.001,\n",
    "#                             patience = 1),\n",
    "\n",
    "#     callbacks.ModelCheckpoint(filepath = filepath,\n",
    "#                               monitor = 'val_loss',\n",
    "#                               save_best_only = True,\n",
    "#                               period = 1),\n",
    "    \n",
    "    callbacks.ReduceLROnPlateau(monitor = 'val_loss',\n",
    "                                factor = 0.1,\n",
    "                                patience = 1,\n",
    "                                verbose = 1),\n",
    "    \n",
    "    callbacks.CSVLogger(filename='training.log', separator=',', append=False)\n",
    "]\n"
   ]
  },
  {
   "cell_type": "code",
   "execution_count": 30,
   "metadata": {},
   "outputs": [
    {
     "name": "stdout",
     "output_type": "stream",
     "text": [
      "Train on 48000 samples, validate on 12000 samples\n",
      "Epoch 1/12\n",
      "48000/48000 [==============================] - 2s 38us/step - loss: 0.3368 - acc: 0.9038 - val_loss: 0.1764 - val_acc: 0.9488\n",
      "Epoch 2/12\n",
      "48000/48000 [==============================] - 1s 29us/step - loss: 0.1459 - acc: 0.9563 - val_loss: 0.1243 - val_acc: 0.9628\n",
      "Epoch 3/12\n",
      "48000/48000 [==============================] - 1s 29us/step - loss: 0.0995 - acc: 0.9694 - val_loss: 0.1073 - val_acc: 0.9674\n",
      "Epoch 4/12\n",
      "48000/48000 [==============================] - 1s 29us/step - loss: 0.0735 - acc: 0.9772 - val_loss: 0.0937 - val_acc: 0.9728\n",
      "Epoch 5/12\n",
      "48000/48000 [==============================] - 1s 29us/step - loss: 0.0588 - acc: 0.9816 - val_loss: 0.0896 - val_acc: 0.9748\n",
      "Epoch 6/12\n",
      "48000/48000 [==============================] - 1s 30us/step - loss: 0.0460 - acc: 0.9854 - val_loss: 0.0869 - val_acc: 0.9756\n",
      "Epoch 7/12\n",
      "48000/48000 [==============================] - 1s 30us/step - loss: 0.0376 - acc: 0.9886 - val_loss: 0.0817 - val_acc: 0.9785\n",
      "Epoch 8/12\n",
      "48000/48000 [==============================] - 2s 32us/step - loss: 0.0305 - acc: 0.9906 - val_loss: 0.0804 - val_acc: 0.9802\n",
      "Epoch 9/12\n",
      "48000/48000 [==============================] - 2s 32us/step - loss: 0.0246 - acc: 0.9925 - val_loss: 0.0829 - val_acc: 0.9800\n",
      "Epoch 10/12\n",
      "46592/48000 [============================>.] - ETA: 0s - loss: 0.0203 - acc: 0.9936\n",
      "Epoch 00010: reducing learning rate to 0.00010000000474974513.\n",
      "48000/48000 [==============================] - 2s 32us/step - loss: 0.0208 - acc: 0.9935 - val_loss: 0.0951 - val_acc: 0.9769\n",
      "Epoch 11/12\n",
      "47872/48000 [============================>.] - ETA: 0s - loss: 0.0075 - acc: 0.9982\n",
      "Epoch 00011: reducing learning rate to 1.0000000474974514e-05.\n",
      "48000/48000 [==============================] - 1s 31us/step - loss: 0.0075 - acc: 0.9981 - val_loss: 0.0817 - val_acc: 0.9810\n",
      "Epoch 12/12\n",
      "47744/48000 [============================>.] - ETA: 0s - loss: 0.0052 - acc: 0.9989\n",
      "Epoch 00012: reducing learning rate to 1.0000000656873453e-06.\n",
      "48000/48000 [==============================] - 1s 30us/step - loss: 0.0052 - acc: 0.9989 - val_loss: 0.0808 - val_acc: 0.9811\n"
     ]
    }
   ],
   "source": [
    "# Train the model\n",
    "history = model.fit(x = train_images,\n",
    "                    y = train_labels_onehot,\n",
    "                    batch_size = 128,\n",
    "                    epochs = 12,\n",
    "                    validation_data = (val_images, val_labels_onehot),\n",
    "                    callbacks = callbacks_list,\n",
    "                    shuffle = True)"
   ]
  },
  {
   "cell_type": "code",
   "execution_count": 31,
   "metadata": {},
   "outputs": [
    {
     "data": {
      "image/png": "[encoded data removed]",
      "text/plain": [
       "<matplotlib.figure.Figure at 0x1a24294978>"
      ]
     },
     "metadata": {},
     "output_type": "display_data"
    }
   ],
   "source": [
    "plot_training(history)"
   ]
  },
  {
   "cell_type": "markdown",
   "metadata": {},
   "source": [
    "# 3. Saving and restoring a trained model"
   ]
  },
  {
   "cell_type": "markdown",
   "metadata": {},
   "source": [
    "Keras FAQ: https://keras.io/getting-started/faq/#how-can-i-save-a-keras-model"
   ]
  },
  {
   "cell_type": "code",
   "execution_count": 32,
   "metadata": {},
   "outputs": [
    {
     "name": "stdout",
     "output_type": "stream",
     "text": [
      "10000/10000 [==============================] - 0s 30us/step\n",
      "test_loss: 0.07843357847087919\n",
      "test_acc: 0.9805\n"
     ]
    }
   ],
   "source": [
    "test_loss, test_acc = model.evaluate(x = test_images,\n",
    "                                     y = test_labels_onehot)\n",
    "\n",
    "print('test_loss: {}'.format(test_loss))\n",
    "print('test_acc: {}'.format(test_acc))"
   ]
  },
  {
   "cell_type": "code",
   "execution_count": 33,
   "metadata": {
    "collapsed": true
   },
   "outputs": [],
   "source": [
    "# Save the model\n",
    "model_name = 'my_model.h5'\n",
    "model.save(model_name)"
   ]
  },
  {
   "cell_type": "code",
   "execution_count": 34,
   "metadata": {
    "collapsed": true
   },
   "outputs": [],
   "source": [
    "# Delete the model\n",
    "del model"
   ]
  },
  {
   "cell_type": "code",
   "execution_count": 35,
   "metadata": {
    "collapsed": true
   },
   "outputs": [],
   "source": [
    "# Load the model\n",
    "if os.path.exists(model_name):\n",
    "    model = load_model('my_model.h5')\n",
    "else:\n",
    "    print('The model was not found.')"
   ]
  },
  {
   "cell_type": "code",
   "execution_count": 36,
   "metadata": {},
   "outputs": [
    {
     "name": "stdout",
     "output_type": "stream",
     "text": [
      "10000/10000 [==============================] - 0s 31us/step\n",
      "test_loss: 0.07843357847087919\n",
      "test_acc: 0.9805\n"
     ]
    }
   ],
   "source": [
    "test_loss, test_acc = model.evaluate(x = test_images,\n",
    "                                     y = test_labels_onehot)\n",
    "\n",
    "print('test_loss: {}'.format(test_loss))\n",
    "print('test_acc: {}'.format(test_acc))"
   ]
  },
  {
   "cell_type": "code",
   "execution_count": 37,
   "metadata": {},
   "outputs": [
    {
     "name": "stdout",
     "output_type": "stream",
     "text": [
      "Train on 48000 samples, validate on 12000 samples\n",
      "Epoch 1/2\n",
      "48000/48000 [==============================] - 1s 30us/step - loss: 0.0050 - acc: 0.9989 - val_loss: 0.0808 - val_acc: 0.9812\n",
      "Epoch 2/2\n",
      "48000/48000 [==============================] - 1s 29us/step - loss: 0.0050 - acc: 0.9990 - val_loss: 0.0808 - val_acc: 0.9812\n"
     ]
    }
   ],
   "source": [
    "# Note that training.log file is overwritten\n",
    "# Note that there is no need to compile the model\n",
    "history = model.fit(x = train_images,\n",
    "                    y = train_labels_onehot,\n",
    "                    batch_size = 128,\n",
    "                    epochs = 2,\n",
    "                    validation_data = (val_images, val_labels_onehot),\n",
    "                    callbacks = callbacks_list,\n",
    "                    shuffle = True)"
   ]
  },
  {
   "cell_type": "code",
   "execution_count": 38,
   "metadata": {},
   "outputs": [
    {
     "name": "stdout",
     "output_type": "stream",
     "text": [
      "10000/10000 [==============================] - 0s 29us/step\n",
      "test_loss: 0.07845008841170348\n",
      "test_acc:  0.9804\n"
     ]
    }
   ],
   "source": [
    "test_loss, test_acc = model.evaluate(x = test_images,\n",
    "                                     y = test_labels_onehot)\n",
    "\n",
    "print('test_loss: {}'.format(test_loss))\n",
    "print('test_acc:  {}'.format(test_acc))"
   ]
  },
  {
   "cell_type": "markdown",
   "metadata": {},
   "source": [
    "# 4. Batch-normalization (batch-norm)"
   ]
  },
  {
   "cell_type": "markdown",
   "metadata": {},
   "source": [
    "- Batch-norm is a method for normalizing the mean and variance of layer activations for every mini-batch.\n",
    "- The original batch-norm paper: https://arxiv.org/abs/1502.03167\n",
    "- Deep Learning Specialization: https://www.coursera.org/learn/deep-neural-network/home/week/3"
   ]
  },
  {
   "cell_type": "code",
   "execution_count": 39,
   "metadata": {
    "collapsed": true
   },
   "outputs": [],
   "source": [
    "model = Sequential()\n",
    "model.add(Dense(units=64, activation=None, input_shape=(28 * 28,)))\n",
    "model.add(Activation('relu'))\n",
    "model.add(Dense(units=10, activation='softmax'))\n",
    "\n",
    "model.compile(optimizer='rmsprop', loss='categorical_crossentropy', metrics=['accuracy'])"
   ]
  },
  {
   "cell_type": "code",
   "execution_count": 40,
   "metadata": {},
   "outputs": [
    {
     "name": "stdout",
     "output_type": "stream",
     "text": [
      "Train on 48000 samples, validate on 12000 samples\n",
      "Epoch 1/2\n",
      "48000/48000 [==============================] - 1s 26us/step - loss: 0.4351 - acc: 0.8832 - val_loss: 0.2528 - val_acc: 0.9303\n",
      "Epoch 2/2\n",
      "48000/48000 [==============================] - 1s 20us/step - loss: 0.2186 - acc: 0.9376 - val_loss: 0.1880 - val_acc: 0.9448\n"
     ]
    }
   ],
   "source": [
    "history = model.fit(x=train_images, y=train_labels_onehot,\n",
    "                    batch_size=128, epochs=2, shuffle=True,\n",
    "                    validation_data=(val_images, val_labels_onehot))"
   ]
  },
  {
   "cell_type": "code",
   "execution_count": 41,
   "metadata": {},
   "outputs": [
    {
     "name": "stdout",
     "output_type": "stream",
     "text": [
      "10000/10000 [==============================] - 0s 27us/step\n",
      "test_loss: 0.1845684148401022\n",
      "test_acc:  0.9452\n"
     ]
    }
   ],
   "source": [
    "test_loss, test_acc = model.evaluate(x = test_images,\n",
    "                                     y = test_labels_onehot)\n",
    "\n",
    "print('test_loss: {}'.format(test_loss))\n",
    "print('test_acc:  {}'.format(test_acc))"
   ]
  },
  {
   "cell_type": "code",
   "execution_count": 42,
   "metadata": {
    "collapsed": true
   },
   "outputs": [],
   "source": [
    "model_btch = Sequential()\n",
    "model_btch.add(Dense(units=64, activation=None, input_shape=(28*28,)))\n",
    "model_btch.add(BatchNormalization())\n",
    "model_btch.add(Activation('relu'))\n",
    "model_btch.add(Dense(units=10, activation='softmax'))\n",
    "\n",
    "model_btch.compile(optimizer='rmsprop', loss='categorical_crossentropy', metrics=['accuracy'])"
   ]
  },
  {
   "cell_type": "code",
   "execution_count": 43,
   "metadata": {},
   "outputs": [
    {
     "name": "stdout",
     "output_type": "stream",
     "text": [
      "Train on 48000 samples, validate on 12000 samples\n",
      "Epoch 1/2\n",
      "48000/48000 [==============================] - 2s 41us/step - loss: 0.3747 - acc: 0.9031 - val_loss: 0.1987 - val_acc: 0.9443\n",
      "Epoch 2/2\n",
      "48000/48000 [==============================] - 1s 27us/step - loss: 0.1749 - acc: 0.9515 - val_loss: 0.1489 - val_acc: 0.9574\n"
     ]
    }
   ],
   "source": [
    "history = model_btch.fit(x=train_images, y=train_labels_onehot,\n",
    "                         batch_size=128, epochs=2, shuffle=True,\n",
    "                         validation_data=(val_images, val_labels_onehot))"
   ]
  },
  {
   "cell_type": "code",
   "execution_count": 44,
   "metadata": {},
   "outputs": [
    {
     "name": "stdout",
     "output_type": "stream",
     "text": [
      "10000/10000 [==============================] - 0s 33us/step\n",
      "test_loss: 0.14692816766798497\n",
      "test_acc:  0.9567\n"
     ]
    }
   ],
   "source": [
    "test_loss, test_acc = model_btch.evaluate(x = test_images,\n",
    "                                          y = test_labels_onehot)\n",
    "\n",
    "print('test_loss: {}'.format(test_loss))\n",
    "print('test_acc:  {}'.format(test_acc))"
   ]
  },
  {
   "cell_type": "markdown",
   "metadata": {},
   "source": [
    "# 5. Regularization"
   ]
  },
  {
   "cell_type": "markdown",
   "metadata": {},
   "source": [
    "Some of the methods to fight overfitting and improving the model generalization:\n",
    "- Get more data\n",
    "- Reduce the complexity of the network\n",
    "- Regularization methods\n",
    "\n",
    "Deep Learning Specialization: https://www.coursera.org/learn/deep-neural-network/home/week/1"
   ]
  },
  {
   "cell_type": "code",
   "execution_count": 45,
   "metadata": {
    "collapsed": true
   },
   "outputs": [],
   "source": [
    "model = Sequential()\n",
    "model.add(Dense(units=512, activation='relu', input_shape=(28*28,)))\n",
    "model.add(Dense(units=512, activation='relu'))\n",
    "model.add(Dense(units=10, activation='softmax'))\n",
    "\n",
    "model.compile(optimizer='rmsprop', loss='categorical_crossentropy', metrics=['accuracy'])"
   ]
  },
  {
   "cell_type": "code",
   "execution_count": 46,
   "metadata": {
    "collapsed": true
   },
   "outputs": [],
   "source": [
    "history = model.fit(x=train_images, y=train_labels_onehot, batch_size=128,\n",
    "                    epochs=10, shuffle=True, verbose=0,\n",
    "                    validation_data=(val_images, val_labels_onehot))"
   ]
  },
  {
   "cell_type": "code",
   "execution_count": 47,
   "metadata": {},
   "outputs": [
    {
     "name": "stdout",
     "output_type": "stream",
     "text": [
      "10000/10000 [==============================] - 1s 53us/step\n",
      "test_loss: 0.10774337939508159\n",
      "test_acc:  0.9809\n"
     ]
    }
   ],
   "source": [
    "test_loss, test_acc = model.evaluate(x = test_images,\n",
    "                                     y = test_labels_onehot)\n",
    "\n",
    "print('test_loss: {}'.format(test_loss))\n",
    "print('test_acc:  {}'.format(test_acc))"
   ]
  },
  {
   "cell_type": "code",
   "execution_count": 48,
   "metadata": {},
   "outputs": [
    {
     "data": {
      "image/png": "[encoded data removed]",
      "text/plain": [
       "<matplotlib.figure.Figure at 0x1a24181320>"
      ]
     },
     "metadata": {},
     "output_type": "display_data"
    }
   ],
   "source": [
    "plot_training(history)"
   ]
  },
  {
   "cell_type": "markdown",
   "metadata": {},
   "source": [
    "## Regularization using Dropout\n",
    "- The original dropout paper: https://www.cs.toronto.edu/~hinton/absps/JMLRdropout.pdf\n",
    "- Deep Learning Specialization: https://www.coursera.org/learn/deep-neural-network/home/week/1"
   ]
  },
  {
   "cell_type": "markdown",
   "metadata": {},
   "source": [
    "- Dropout is a method where randomly selected neurons are \"dropped\" (ignored) during training.\n",
    "- The weights of the dropped neurons are not updated for the given mini-batch.\n",
    "- Note that dropout is applied only in the training phase.\n",
    "<img src='figures/dropout.png', width=70%>"
   ]
  },
  {
   "cell_type": "code",
   "execution_count": 49,
   "metadata": {
    "collapsed": true
   },
   "outputs": [],
   "source": [
    "# In the Keras Dropout layer, the user specifies the fraction of neurons to drop.\n",
    "model = Sequential()\n",
    "model.add(Dense(units=512, activation='relu', input_shape=(28*28,)))\n",
    "model.add(Dropout(0.35))\n",
    "model.add(Dense(units=512, activation='relu'))\n",
    "model.add(Dropout(0.25))\n",
    "model.add(Dense(units=10, activation='softmax'))\n",
    "\n",
    "model.compile(optimizer='rmsprop', loss='categorical_crossentropy', metrics=['accuracy'])"
   ]
  },
  {
   "cell_type": "code",
   "execution_count": 50,
   "metadata": {
    "collapsed": true
   },
   "outputs": [],
   "source": [
    "history = model.fit(x=train_images, y=train_labels_onehot, batch_size=128,\n",
    "                    epochs=10, shuffle=True, verbose=0,\n",
    "                    validation_data=(val_images, val_labels_onehot))"
   ]
  },
  {
   "cell_type": "code",
   "execution_count": 51,
   "metadata": {},
   "outputs": [
    {
     "name": "stdout",
     "output_type": "stream",
     "text": [
      "10000/10000 [==============================] - 1s 56us/step\n",
      "test_loss: 0.0773944780907008\n",
      "test_acc: 0.9822\n"
     ]
    }
   ],
   "source": [
    "test_loss, test_acc = model.evaluate(x = test_images,\n",
    "                                     y = test_labels_onehot)\n",
    "\n",
    "print('test_loss: {}'.format(test_loss))\n",
    "print('test_acc: {}'.format(test_acc))"
   ]
  },
  {
   "cell_type": "code",
   "execution_count": 52,
   "metadata": {},
   "outputs": [
    {
     "data": {
      "image/png": "[encoded data removed]",
      "text/plain": [
       "<matplotlib.figure.Figure at 0x1a25f2dbe0>"
      ]
     },
     "metadata": {},
     "output_type": "display_data"
    }
   ],
   "source": [
    "plot_training(history)"
   ]
  },
  {
   "cell_type": "markdown",
   "metadata": {},
   "source": [
    "# 6. Predictions and error analysis"
   ]
  },
  {
   "cell_type": "code",
   "execution_count": 53,
   "metadata": {},
   "outputs": [
    {
     "name": "stdout",
     "output_type": "stream",
     "text": [
      "preds shape:  (10000, 10)\n",
      "\n"
     ]
    }
   ],
   "source": [
    "preds = model.predict(test_images)\n",
    "print('preds shape:  {}\\n'.format(preds.shape))"
   ]
  },
  {
   "cell_type": "markdown",
   "metadata": {},
   "source": [
    "- The predict() method returns a matrix of the following shape:  [number of images, number of classes].\n",
    "- Each row vector represents prediction probabilities for a given image (sum to 1)\n",
    "- Each value in the vector is the probability that the input image is of a particular class"
   ]
  },
  {
   "cell_type": "code",
   "execution_count": 54,
   "metadata": {},
   "outputs": [
    {
     "name": "stdout",
     "output_type": "stream",
     "text": [
      "[  3.39252743e-17   1.18103867e-12   4.60142680e-08   4.83525639e-07\n",
      "   1.15265592e-18   3.84354115e-13   6.25346507e-25   9.99999523e-01\n",
      "   1.09607635e-12   1.08007325e-09]\n",
      "\n",
      "Sum of predictions for all classes: 1.0\n"
     ]
    },
    {
     "data": {
      "text/plain": [
       "<matplotlib.collections.PathCollection at 0x1a25e64710>"
      ]
     },
     "execution_count": 54,
     "metadata": {},
     "output_type": "execute_result"
    },
    {
     "data": {
      "image/png": "[encoded data removed]",
      "text/plain": [
       "<matplotlib.figure.Figure at 0x1a1792d668>"
      ]
     },
     "metadata": {},
     "output_type": "display_data"
    }
   ],
   "source": [
    "print(preds[0, :])\n",
    "print('\\nSum of predictions for all classes: {}'.format(preds[0, :].sum()))\n",
    "plt.scatter(np.arange(0, 10), preds[0,:])"
   ]
  },
  {
   "cell_type": "code",
   "execution_count": 55,
   "metadata": {},
   "outputs": [
    {
     "name": "stdout",
     "output_type": "stream",
     "text": [
      "[7 2 1 ..., 4 5 6]\n",
      "[7 2 1 ..., 4 5 6]\n",
      "\n",
      "Number of mis-classified images:  178\n"
     ]
    }
   ],
   "source": [
    "pred_classes = model.predict_classes(test_images)  # preds.argmax(axis=1)\n",
    "\n",
    "print(test_labels)\n",
    "print(pred_classes)\n",
    "\n",
    "incorrectly_classified = (pred_classes != test_labels)\n",
    "print('\\nNumber of mis-classified images:  {}'.format(incorrectly_classified.sum()))"
   ]
  },
  {
   "cell_type": "markdown",
   "metadata": {},
   "source": [
    "## Error analysis\n",
    "It is useful to analyze where your model predicted correctly and incorrectly."
   ]
  },
  {
   "cell_type": "markdown",
   "metadata": {},
   "source": [
    "### 1. Correctly classdied images"
   ]
  },
  {
   "cell_type": "code",
   "execution_count": 56,
   "metadata": {},
   "outputs": [
    {
     "name": "stdout",
     "output_type": "stream",
     "text": [
      "True labels:\n"
     ]
    },
    {
     "data": {
      "image/png": "[encoded data removed]",
      "text/plain": [
       "<matplotlib.figure.Figure at 0x1a17b23be0>"
      ]
     },
     "metadata": {},
     "output_type": "display_data"
    }
   ],
   "source": [
    "correct = np.where(pred_classes == test_labels)[0]  # get the indices of correctly classified images\n",
    "\n",
    "n_images = 4\n",
    "correct_inds = np.random.permutation(correct)[:n_images]\n",
    "\n",
    "print('True labels:')\n",
    "show_mnist_images(images = test_images[correct_inds],\n",
    "                  titles = test_labels[correct_inds])"
   ]
  },
  {
   "cell_type": "code",
   "execution_count": 57,
   "metadata": {},
   "outputs": [
    {
     "name": "stdout",
     "output_type": "stream",
     "text": [
      "Predicted labels:\n"
     ]
    },
    {
     "data": {
      "image/png": "[encoded data removed]",
      "text/plain": [
       "<matplotlib.figure.Figure at 0x1a25f2d0f0>"
      ]
     },
     "metadata": {},
     "output_type": "display_data"
    }
   ],
   "source": [
    "print('Predicted labels:')\n",
    "show_mnist_images(images = test_images[correct_inds],\n",
    "                  titles = pred_classes[correct_inds])"
   ]
  },
  {
   "cell_type": "markdown",
   "metadata": {},
   "source": [
    "### 2. Incorrectly classdied images"
   ]
  },
  {
   "cell_type": "code",
   "execution_count": 58,
   "metadata": {},
   "outputs": [
    {
     "name": "stdout",
     "output_type": "stream",
     "text": [
      "True labels:\n"
     ]
    },
    {
     "data": {
      "image/png": "[encoded data removed]",
      "text/plain": [
       "<matplotlib.figure.Figure at 0x1a1a8897b8>"
      ]
     },
     "metadata": {},
     "output_type": "display_data"
    }
   ],
   "source": [
    "incorrect = np.where(pred_classes != test_labels)[0]  # get the indices of incorrectly classified images\n",
    "\n",
    "n_images = 4\n",
    "incorrect_inds = np.random.permutation(incorrect)[:n_images]\n",
    "\n",
    "print('True labels:')\n",
    "show_mnist_images(images = test_images[incorrect_inds],\n",
    "                  titles = test_labels[incorrect_inds])"
   ]
  },
  {
   "cell_type": "code",
   "execution_count": 59,
   "metadata": {},
   "outputs": [
    {
     "name": "stdout",
     "output_type": "stream",
     "text": [
      "Predicted labels:\n"
     ]
    },
    {
     "data": {
      "image/png": "[encoded data removed]",
      "text/plain": [
       "<matplotlib.figure.Figure at 0x1a17880588>"
      ]
     },
     "metadata": {},
     "output_type": "display_data"
    }
   ],
   "source": [
    "print('Predicted labels:')\n",
    "show_mnist_images(images = test_images[incorrect_inds],\n",
    "                  titles = pred_classes[incorrect_inds])"
   ]
  },
  {
   "cell_type": "markdown",
   "metadata": {},
   "source": [
    "# 7. Resources"
   ]
  },
  {
   "cell_type": "markdown",
   "metadata": {},
   "source": [
    "- Deep Learning with Python (F. Chollet): https://www.manning.com/books/deep-learning-with-python\n",
    "- Deep Learning Specialization (Andrew Ng): https://www.coursera.org/specializations/deep-learning\n",
    "- Stanford course cs231n (Fei-Fei Li): http://cs231n.stanford.edu/\n",
    "- fast.ai part 1: http://course.fast.ai/\n",
    "- fast.ai part 2: http://course.fast.ai/part2.html\n",
    "- fast.ai part 1 (v2, using PyTorch): http://forums.fast.ai/t/welcome-to-part-1-v2/5787\n",
    "- Data science competitions: https://www.kaggle.com/\n",
    "- Deep Learning (I. Goodfellow) http://www.deeplearningbook.org/"
   ]
  }
 ],
 "metadata": {
  "kernelspec": {
   "display_name": "Python 3",
   "language": "python",
   "name": "python3"
  },
  "language_info": {
   "codemirror_mode": {
    "name": "ipython",
    "version": 3
   },
   "file_extension": ".py",
   "mimetype": "text/x-python",
   "name": "python",
   "nbconvert_exporter": "python",
   "pygments_lexer": "ipython3",
   "version": "3.5.4"
  }
 },
 "nbformat": 4,
 "nbformat_minor": 2
}
