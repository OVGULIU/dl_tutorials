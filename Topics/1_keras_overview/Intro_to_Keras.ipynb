{
 "cells": [
  {
   "cell_type": "markdown",
   "metadata": {},
   "source": [
    "# Intro to Keras"
   ]
  },
  {
   "cell_type": "markdown",
   "metadata": {},
   "source": [
    "### Import modules"
   ]
  },
  {
   "cell_type": "code",
   "execution_count": 1,
   "metadata": {},
   "outputs": [
    {
     "name": "stdout",
     "output_type": "stream",
     "text": [
      "Python working path: /Users/apartin/anaconda/envs/py35_tf14/bin/python\n"
     ]
    }
   ],
   "source": [
    "# Import modules\n",
    "import os\n",
    "import sys\n",
    "import numpy as np\n",
    "import pandas as pd\n",
    "import random as rn\n",
    "\n",
    "from sklearn.model_selection import train_test_split\n",
    "\n",
    "%matplotlib inline\n",
    "import matplotlib.pyplot as plt\n",
    "\n",
    "print('Python working path: {}'.format(sys.executable))"
   ]
  },
  {
   "cell_type": "code",
   "execution_count": 2,
   "metadata": {},
   "outputs": [
    {
     "name": "stdout",
     "output_type": "stream",
     "text": [
      "TensorFlow version: 1.4.0\n",
      "Keras version: 2.1.2\n"
     ]
    },
    {
     "name": "stderr",
     "output_type": "stream",
     "text": [
      "Using TensorFlow backend.\n"
     ]
    }
   ],
   "source": [
    "# Import DL modules\n",
    "import tensorflow as tf\n",
    "import keras\n",
    "print('TensorFlow version: {}'.format(tf.__version__))\n",
    "print('Keras version: {}'.format(keras.__version__))"
   ]
  },
  {
   "cell_type": "code",
   "execution_count": 3,
   "metadata": {
    "collapsed": true
   },
   "outputs": [],
   "source": [
    "# Import Keras methods\n",
    "from keras import backend as K\n",
    "from keras.models import Sequential, load_model\n",
    "from keras.layers import Dense, Activation, BatchNormalization, Dropout\n",
    "from keras import optimizers, losses, regularizers\n",
    "from keras import callbacks\n",
    "from keras.utils import to_categorical\n",
    "from keras.datasets import mnist, fashion_mnist, boston_housing"
   ]
  },
  {
   "cell_type": "code",
   "execution_count": 4,
   "metadata": {
    "collapsed": true
   },
   "outputs": [],
   "source": [
    "seed = 2018\n",
    "np.random.seed(seed)\n",
    "rn.seed(seed)"
   ]
  },
  {
   "cell_type": "markdown",
   "metadata": {},
   "source": [
    "## 1. Create a fully-connected network for MNIST"
   ]
  },
  {
   "cell_type": "markdown",
   "metadata": {},
   "source": [
    "### TODO: discuss the MNIST dataset (add ref)"
   ]
  },
  {
   "cell_type": "markdown",
   "metadata": {},
   "source": [
    "### TODO: add schematic of the fully-connected classifier"
   ]
  },
  {
   "cell_type": "code",
   "execution_count": 5,
   "metadata": {
    "collapsed": true
   },
   "outputs": [],
   "source": [
    "# Load the MNIST dataset\n",
    "(train_images, train_labels), (test_images, test_labels) = mnist.load_data()"
   ]
  },
  {
   "cell_type": "code",
   "execution_count": 6,
   "metadata": {},
   "outputs": [
    {
     "name": "stdout",
     "output_type": "stream",
     "text": [
      "train_images: (60000, 28, 28), uint8\n",
      "test_images:  (10000, 28, 28), uint8\n",
      "train_labels: (60000,), uint8\n",
      "test_labels:  (10000,), uint8\n"
     ]
    }
   ],
   "source": [
    "print('train_images: {}, {}'.format(train_images.shape, train_images.dtype))\n",
    "print('test_images:  {}, {}'.format(test_images.shape, test_images.dtype))\n",
    "print('train_labels: {}, {}'.format(train_labels.shape, train_labels.dtype))\n",
    "print('test_labels:  {}, {}'.format(test_labels.shape, test_labels.dtype))"
   ]
  },
  {
   "cell_type": "code",
   "execution_count": 7,
   "metadata": {},
   "outputs": [
    {
     "data": {
      "text/plain": [
       "array([5, 0, 4, ..., 5, 6, 8], dtype=uint8)"
      ]
     },
     "execution_count": 7,
     "metadata": {},
     "output_type": "execute_result"
    }
   ],
   "source": [
    "train_labels"
   ]
  },
  {
   "cell_type": "code",
   "execution_count": 8,
   "metadata": {
    "collapsed": true
   },
   "outputs": [],
   "source": [
    "def show_mnist_images(images, labels=None, n_images=4):\n",
    "    \"\"\"Plot random mnist images.\"\"\"\n",
    "    assert n_images <= 5, 'Can show up to 5 images.' \n",
    "    inds = np.random.randint(low=0, high=len(images), size=n_images)\n",
    "    f, ax = plt.subplots(1, n_images)\n",
    "    for i, im_id in enumerate(inds):\n",
    "        ax[i].imshow(images[im_id], cmap='gray')  # cmap=plt.cm.binary\n",
    "        if labels[im_id] is not None:\n",
    "            ax[i].set_title('Label {}'.format(labels[im_id]))"
   ]
  },
  {
   "cell_type": "code",
   "execution_count": 9,
   "metadata": {},
   "outputs": [
    {
     "data": {
      "image/png": "[encoded data removed]",
      "text/plain": [
       "<matplotlib.figure.Figure at 0x1a220a95c0>"
      ]
     },
     "metadata": {},
     "output_type": "display_data"
    }
   ],
   "source": [
    "show_mnist_images(images=train_images, labels=train_labels, n_images=3)"
   ]
  },
  {
   "cell_type": "code",
   "execution_count": 10,
   "metadata": {
    "collapsed": true
   },
   "outputs": [],
   "source": [
    "# show_mnist_images??"
   ]
  },
  {
   "cell_type": "code",
   "execution_count": 11,
   "metadata": {
    "collapsed": true
   },
   "outputs": [],
   "source": [
    "# Reshape images for fully-connected input layer\n",
    "train_images = train_images.reshape((60000, 28 * 28))  # or reshape((-1, 28 * 28))\n",
    "test_images = test_images.reshape((10000, 28 * 28))  # or reshape((-1, 28 * 28))"
   ]
  },
  {
   "cell_type": "code",
   "execution_count": 12,
   "metadata": {
    "collapsed": true
   },
   "outputs": [],
   "source": [
    "# Split training data into training and validation data\n",
    "val_size = 0.2\n",
    "train_images, val_images, train_labels, val_labels = train_test_split(train_images, train_labels,\n",
    "                                                                      test_size=val_size, random_state=seed,\n",
    "                                                                      shuffle=True)"
   ]
  },
  {
   "cell_type": "code",
   "execution_count": 13,
   "metadata": {
    "collapsed": true
   },
   "outputs": [],
   "source": [
    "# One-hot encode the target variable\n",
    "train_labels = to_categorical(train_labels)\n",
    "val_labels = to_categorical(val_labels)\n",
    "test_labels = to_categorical(test_labels)"
   ]
  },
  {
   "cell_type": "code",
   "execution_count": 14,
   "metadata": {},
   "outputs": [
    {
     "name": "stdout",
     "output_type": "stream",
     "text": [
      "train_images: (48000, 784), uint8\n",
      "val_images:   (12000, 784), uint8\n",
      "test_images:  (10000, 784), uint8\n",
      "train_labels: (48000, 10), float64\n",
      "val_labels:   (12000, 10), float64\n",
      "test_labels:  (10000, 10), float64\n"
     ]
    }
   ],
   "source": [
    "# Print dataset after reshape\n",
    "print('train_images: {}, {}'.format(train_images.shape, train_images.dtype))\n",
    "print('val_images:   {}, {}'.format(val_images.shape, val_images.dtype))\n",
    "print('test_images:  {}, {}'.format(test_images.shape, test_images.dtype))\n",
    "print('train_labels: {}, {}'.format(train_labels.shape, train_labels.dtype))\n",
    "print('val_labels:   {}, {}'.format(val_labels.shape, val_labels.dtype))\n",
    "print('test_labels:  {}, {}'.format(test_labels.shape, test_labels.dtype))"
   ]
  },
  {
   "cell_type": "code",
   "execution_count": 15,
   "metadata": {
    "collapsed": true
   },
   "outputs": [],
   "source": [
    "# Pre-process the data (convert to float and scale)\n",
    "train_images = train_images.astype('float32') / 255\n",
    "val_images = val_images.astype('float32') / 255\n",
    "test_images = test_images.astype('float32') / 255"
   ]
  },
  {
   "cell_type": "code",
   "execution_count": 16,
   "metadata": {
    "collapsed": true
   },
   "outputs": [],
   "source": [
    "def create_mnist_classifier(activation='relu'):\n",
    "    \"\"\"Create an MNIST classier.\"\"\"\n",
    "    model = Sequential()\n",
    "    model.add(Dense(units=128, activation=activation, input_shape=(28 * 28,)))\n",
    "    model.add(Dense(units=128, activation=activation))\n",
    "    model.add(Dense(units=10, activation='softmax'))\n",
    "    return model"
   ]
  },
  {
   "cell_type": "code",
   "execution_count": 17,
   "metadata": {},
   "outputs": [
    {
     "name": "stdout",
     "output_type": "stream",
     "text": [
      "_________________________________________________________________\n",
      "Layer (type)                 Output Shape              Param #   \n",
      "=================================================================\n",
      "dense_1 (Dense)              (None, 128)               100480    \n",
      "_________________________________________________________________\n",
      "dense_2 (Dense)              (None, 128)               16512     \n",
      "_________________________________________________________________\n",
      "dense_3 (Dense)              (None, 10)                1290      \n",
      "=================================================================\n",
      "Total params: 118,282\n",
      "Trainable params: 118,282\n",
      "Non-trainable params: 0\n",
      "_________________________________________________________________\n"
     ]
    }
   ],
   "source": [
    "model = create_mnist_classifier(activation='relu')\n",
    "model.summary()"
   ]
  },
  {
   "cell_type": "code",
   "execution_count": 18,
   "metadata": {
    "collapsed": true
   },
   "outputs": [],
   "source": [
    "model.compile(optimizer=optimizers.RMSprop(lr=0.001),  # or 'rmsprop'\n",
    "              loss='categorical_crossentropy',\n",
    "              metrics=['accuracy'])"
   ]
  },
  {
   "cell_type": "code",
   "execution_count": 19,
   "metadata": {},
   "outputs": [
    {
     "name": "stdout",
     "output_type": "stream",
     "text": [
      "Train on 48000 samples, validate on 12000 samples\n",
      "Epoch 1/5\n",
      "48000/48000 [==============================] - 2s 40us/step - loss: 0.3379 - acc: 0.9031 - val_loss: 0.1821 - val_acc: 0.9462\n",
      "Epoch 2/5\n",
      "48000/48000 [==============================] - 2s 32us/step - loss: 0.1447 - acc: 0.9567 - val_loss: 0.1216 - val_acc: 0.9633\n",
      "Epoch 3/5\n",
      "48000/48000 [==============================] - 2s 32us/step - loss: 0.0992 - acc: 0.9694 - val_loss: 0.1025 - val_acc: 0.9702\n",
      "Epoch 4/5\n",
      "48000/48000 [==============================] - 2s 32us/step - loss: 0.0751 - acc: 0.9765 - val_loss: 0.0891 - val_acc: 0.9738\n",
      "Epoch 5/5\n",
      "48000/48000 [==============================] - 2s 33us/step - loss: 0.0596 - acc: 0.9814 - val_loss: 0.0777 - val_acc: 0.9768\n"
     ]
    }
   ],
   "source": [
    "# Train the model\n",
    "history = model.fit(x = train_images,\n",
    "                    y = train_labels,\n",
    "                    batch_size = 128,\n",
    "                    epochs = 5,\n",
    "                    validation_data = (val_images, val_labels),\n",
    "                    shuffle = True)  # randomly shuffles the training data for every new epoch"
   ]
  },
  {
   "cell_type": "code",
   "execution_count": 20,
   "metadata": {},
   "outputs": [
    {
     "name": "stdout",
     "output_type": "stream",
     "text": [
      "48000/48000 [==============================] - 1s 31us/step\n",
      "train_loss: 0.03865979327719348\n",
      "train_acc: 0.9890625\n"
     ]
    }
   ],
   "source": [
    "# Evaluate the model on training data\n",
    "train_loss, train_acc = model.evaluate(x=train_images, y=train_labels)\n",
    "print('train_loss: {}'.format(train_loss))\n",
    "print('train_acc: {}'.format(train_acc))"
   ]
  },
  {
   "cell_type": "code",
   "execution_count": 21,
   "metadata": {},
   "outputs": [
    {
     "name": "stdout",
     "output_type": "stream",
     "text": [
      "12000/12000 [==============================] - 0s 34us/step\n",
      "val_loss: 0.07767583593136321\n",
      "val_acc: 0.9768333333333333\n"
     ]
    }
   ],
   "source": [
    "# Evaluate the model on val data\n",
    "val_loss, val_acc = model.evaluate(x=val_images, y=val_labels)\n",
    "print('val_loss: {}'.format(val_loss))\n",
    "print('val_acc: {}'.format(val_acc))"
   ]
  },
  {
   "cell_type": "markdown",
   "metadata": {},
   "source": [
    "Take a look at the following metrics:\n",
    "- Training metrics (`loss` and `acc`) and the validation metrics (`val_loss` and `val_acc`) printed at the last training epoch\n",
    "- Training metrics (`train_loss` and `train_acc`) and the validation metrics (`val_loss` and `val_acc`) computed using the `evaluate` method after the training has been completed\n",
    "<br/>\n",
    "\n",
    "Notice that the validation values do match, while the training values do not match. The reason is that `val_loss` and `val_acc` are computed using the most updated neural network model at the end of every epoch. On the other hand, `loss` and `acc` (i.e., loss and acc for the training set) are the average values across all the batches for a given epoch. "
   ]
  },
  {
   "cell_type": "code",
   "execution_count": 22,
   "metadata": {},
   "outputs": [
    {
     "name": "stdout",
     "output_type": "stream",
     "text": [
      "10000/10000 [==============================] - 0s 34us/step\n",
      "test_loss: 0.08130693901595659\n",
      "test_acc: 0.9733\n"
     ]
    }
   ],
   "source": [
    "# Evaluate the model on test data\n",
    "test_loss, test_acc = model.evaluate(x=test_images, y=test_labels)\n",
    "print('test_loss: {}'.format(test_loss))\n",
    "print('test_acc: {}'.format(test_acc))"
   ]
  },
  {
   "cell_type": "code",
   "execution_count": 23,
   "metadata": {},
   "outputs": [
    {
     "data": {
      "text/plain": [
       "dict_keys(['val_acc', 'loss', 'val_loss', 'acc'])"
      ]
     },
     "execution_count": 23,
     "metadata": {},
     "output_type": "execute_result"
    }
   ],
   "source": [
    "history.history.keys()"
   ]
  },
  {
   "cell_type": "code",
   "execution_count": 24,
   "metadata": {
    "collapsed": true
   },
   "outputs": [],
   "source": [
    "def plot_training(history):\n",
    "    epochs = np.asarray(history.epoch) + 1\n",
    "    acc = history.history['acc']\n",
    "    val_acc = history.history['val_acc']\n",
    "    loss = history.history['loss']\n",
    "    val_loss = history.history['val_loss']\n",
    "\n",
    "    plt.plot(epochs, loss, 'bo', label='loss')\n",
    "    plt.plot(epochs, val_loss, 'ro', label='val_loss')\n",
    "    plt.grid('on')\n",
    "    plt.xlabel('Epoch')\n",
    "    plt.ylabel('Loss')\n",
    "    plt.legend(loc='best')\n",
    "    plt.xlim(0, len(epochs)+1)\n",
    "    plt.ylim(0.0, 0.5)"
   ]
  },
  {
   "cell_type": "code",
   "execution_count": 25,
   "metadata": {},
   "outputs": [
    {
     "data": {
      "image/png": "[encoded data removed]",
      "text/plain": [
       "<matplotlib.figure.Figure at 0x1a2ebdf358>"
      ]
     },
     "metadata": {},
     "output_type": "display_data"
    }
   ],
   "source": [
    "plot_training(history)"
   ]
  },
  {
   "cell_type": "markdown",
   "metadata": {},
   "source": [
    "## 2. Callbacks"
   ]
  },
  {
   "cell_type": "markdown",
   "metadata": {},
   "source": [
    "Keras callbacks: https://keras.io/callbacks/"
   ]
  },
  {
   "cell_type": "code",
   "execution_count": 26,
   "metadata": {
    "collapsed": true
   },
   "outputs": [],
   "source": [
    "model = create_mnist_classifier(activation='relu')\n",
    "\n",
    "model.compile(optimizer=optimizers.RMSprop(lr=0.001),  # or 'rmsprop'\n",
    "              loss='categorical_crossentropy',\n",
    "              metrics=['accuracy'])"
   ]
  },
  {
   "cell_type": "code",
   "execution_count": 27,
   "metadata": {
    "collapsed": true
   },
   "outputs": [],
   "source": [
    "# filepath = os.path.join(model_ckpt, 'model-{epoch:03d}-{val_loss:.2f}.hdf5')\n",
    "# filepath = os.path.join(model_ckpt, 'best_weights.h5')  # save best model\n",
    "\n",
    "callbacks_list = [\n",
    "#     callbacks.EarlyStopping(monitor = 'val_loss',\n",
    "#                             min_delta = 0.001,\n",
    "#                             patience = 1),\n",
    "\n",
    "#     callbacks.ModelCheckpoint(filepath = filepath,\n",
    "#                               monitor = 'val_loss',\n",
    "#                               save_best_only = True,\n",
    "#                               period = 1),\n",
    "    \n",
    "    # TODO: show visulization of bouncing minima due to the high learning rate\n",
    "    callbacks.ReduceLROnPlateau(monitor = 'val_loss',\n",
    "                                factor = 0.1,\n",
    "                                patience = 1,\n",
    "                                verbose = 1),\n",
    "    \n",
    "    callbacks.CSVLogger(filename='training.log', separator=',', append=False)\n",
    "]\n"
   ]
  },
  {
   "cell_type": "code",
   "execution_count": 28,
   "metadata": {},
   "outputs": [
    {
     "name": "stdout",
     "output_type": "stream",
     "text": [
      "Train on 48000 samples, validate on 12000 samples\n",
      "Epoch 1/12\n",
      "48000/48000 [==============================] - 2s 39us/step - loss: 0.3368 - acc: 0.9038 - val_loss: 0.1764 - val_acc: 0.9488\n",
      "Epoch 2/12\n",
      "48000/48000 [==============================] - 2s 32us/step - loss: 0.1458 - acc: 0.9562 - val_loss: 0.1233 - val_acc: 0.9632\n",
      "Epoch 3/12\n",
      "48000/48000 [==============================] - 2s 32us/step - loss: 0.0996 - acc: 0.9694 - val_loss: 0.1048 - val_acc: 0.9691\n",
      "Epoch 4/12\n",
      "48000/48000 [==============================] - 2s 33us/step - loss: 0.0737 - acc: 0.9772 - val_loss: 0.0946 - val_acc: 0.9720\n",
      "Epoch 5/12\n",
      "48000/48000 [==============================] - 2s 32us/step - loss: 0.0587 - acc: 0.9813 - val_loss: 0.0869 - val_acc: 0.9751\n",
      "Epoch 6/12\n",
      "48000/48000 [==============================] - 2s 33us/step - loss: 0.0460 - acc: 0.9854 - val_loss: 0.0865 - val_acc: 0.9755\n",
      "Epoch 7/12\n",
      "48000/48000 [==============================] - 2s 33us/step - loss: 0.0380 - acc: 0.9882 - val_loss: 0.0823 - val_acc: 0.9773\n",
      "Epoch 8/12\n",
      "48000/48000 [==============================] - 2s 33us/step - loss: 0.0308 - acc: 0.9902 - val_loss: 0.0785 - val_acc: 0.9800\n",
      "Epoch 9/12\n",
      "48000/48000 [==============================] - 2s 34us/step - loss: 0.0248 - acc: 0.9924 - val_loss: 0.0884 - val_acc: 0.9785\n",
      "Epoch 10/12\n",
      "47616/48000 [============================>.] - ETA: 0s - loss: 0.0212 - acc: 0.9935\n",
      "Epoch 00010: reducing learning rate to 0.00010000000474974513.\n",
      "48000/48000 [==============================] - 2s 35us/step - loss: 0.0211 - acc: 0.9935 - val_loss: 0.0954 - val_acc: 0.9773\n",
      "Epoch 11/12\n",
      "47104/48000 [============================>.] - ETA: 0s - loss: 0.0075 - acc: 0.9983\n",
      "Epoch 00011: reducing learning rate to 1.0000000474974514e-05.\n",
      "48000/48000 [==============================] - 2s 35us/step - loss: 0.0075 - acc: 0.9983 - val_loss: 0.0798 - val_acc: 0.9815\n",
      "Epoch 12/12\n",
      "47872/48000 [============================>.] - ETA: 0s - loss: 0.0051 - acc: 0.9990\n",
      "Epoch 00012: reducing learning rate to 1.0000000656873453e-06.\n",
      "48000/48000 [==============================] - 2s 33us/step - loss: 0.0052 - acc: 0.9989 - val_loss: 0.0791 - val_acc: 0.9818\n"
     ]
    }
   ],
   "source": [
    "# Train the model\n",
    "history = model.fit(x = train_images,\n",
    "                    y = train_labels,\n",
    "                    batch_size = 128,\n",
    "                    epochs = 12,\n",
    "                    validation_data = (val_images, val_labels),\n",
    "                    callbacks = callbacks_list,\n",
    "                    shuffle = True)"
   ]
  },
  {
   "cell_type": "code",
   "execution_count": 29,
   "metadata": {},
   "outputs": [
    {
     "data": {
      "image/png": "[encoded data removed]",
      "text/plain": [
       "<matplotlib.figure.Figure at 0x1a229c5940>"
      ]
     },
     "metadata": {},
     "output_type": "display_data"
    }
   ],
   "source": [
    "plot_training(history)"
   ]
  },
  {
   "cell_type": "markdown",
   "metadata": {},
   "source": [
    "## 3. Saving and restoring a trained model"
   ]
  },
  {
   "cell_type": "markdown",
   "metadata": {},
   "source": [
    "https://keras.io/getting-started/faq/#how-can-i-save-a-keras-model"
   ]
  },
  {
   "cell_type": "code",
   "execution_count": 30,
   "metadata": {},
   "outputs": [
    {
     "name": "stdout",
     "output_type": "stream",
     "text": [
      "10000/10000 [==============================] - 0s 36us/step\n",
      "test_loss: 0.07756027318653978\n",
      "test_acc: 0.9807\n"
     ]
    }
   ],
   "source": [
    "test_loss, test_acc = model.evaluate(x=test_images, y=test_labels)\n",
    "print('test_loss: {}'.format(test_loss))\n",
    "print('test_acc: {}'.format(test_acc))"
   ]
  },
  {
   "cell_type": "code",
   "execution_count": 31,
   "metadata": {
    "collapsed": true
   },
   "outputs": [],
   "source": [
    "model_name = 'my_model.h5'\n",
    "model.save(model_name)"
   ]
  },
  {
   "cell_type": "code",
   "execution_count": 32,
   "metadata": {
    "collapsed": true
   },
   "outputs": [],
   "source": [
    "del model\n",
    "# try:\n",
    "#     model.summary()\n",
    "# except ValueError:\n",
    "#     'model does not exist.'"
   ]
  },
  {
   "cell_type": "code",
   "execution_count": 33,
   "metadata": {
    "collapsed": true
   },
   "outputs": [],
   "source": [
    "if os.path.exists(model_name):\n",
    "    model = load_model('my_model.h5')\n",
    "else:\n",
    "    'model was not found.'"
   ]
  },
  {
   "cell_type": "code",
   "execution_count": 34,
   "metadata": {},
   "outputs": [
    {
     "name": "stdout",
     "output_type": "stream",
     "text": [
      "10000/10000 [==============================] - 0s 41us/step\n",
      "test_loss: 0.07756027318653978\n",
      "test_acc: 0.9807\n"
     ]
    }
   ],
   "source": [
    "test_loss, test_acc = model.evaluate(x=test_images, y=test_labels)\n",
    "print('test_loss: {}'.format(test_loss))\n",
    "print('test_acc: {}'.format(test_acc))"
   ]
  },
  {
   "cell_type": "code",
   "execution_count": 35,
   "metadata": {},
   "outputs": [
    {
     "name": "stdout",
     "output_type": "stream",
     "text": [
      "Train on 48000 samples, validate on 12000 samples\n",
      "Epoch 1/2\n",
      "48000/48000 [==============================] - ETA: 0s - loss: 0.0050 - acc: 0.999 - 2s 34us/step - loss: 0.0050 - acc: 0.9990 - val_loss: 0.0791 - val_acc: 0.9819\n",
      "Epoch 2/2\n",
      "48000/48000 [==============================] - 2s 33us/step - loss: 0.0050 - acc: 0.9990 - val_loss: 0.0791 - val_acc: 0.9820\n"
     ]
    }
   ],
   "source": [
    "# Note that training.log is overwritten\n",
    "# Note that there is no need to compile the model\n",
    "history = model.fit(x = train_images,\n",
    "                    y = train_labels,\n",
    "                    batch_size = 128,\n",
    "                    epochs = 2,\n",
    "                    validation_data = (val_images, val_labels),\n",
    "                    callbacks = callbacks_list,\n",
    "                    shuffle = True)"
   ]
  },
  {
   "cell_type": "code",
   "execution_count": 36,
   "metadata": {},
   "outputs": [
    {
     "name": "stdout",
     "output_type": "stream",
     "text": [
      "10000/10000 [==============================] - 0s 36us/step\n",
      "test_loss: 0.07759430408107036\n",
      "test_acc: 0.9806\n"
     ]
    }
   ],
   "source": [
    "test_loss, test_acc = model.evaluate(x=test_images, y=test_labels)\n",
    "print('test_loss: {}'.format(test_loss))\n",
    "print('test_acc: {}'.format(test_acc))\n",
    "# plot_training(history)"
   ]
  },
  {
   "cell_type": "markdown",
   "metadata": {},
   "source": [
    "## 4. Batch-normalization (batch-norm)"
   ]
  },
  {
   "cell_type": "markdown",
   "metadata": {},
   "source": [
    "TODO: add batchnorm explanation"
   ]
  },
  {
   "cell_type": "code",
   "execution_count": 37,
   "metadata": {
    "collapsed": true
   },
   "outputs": [],
   "source": [
    "model = Sequential()\n",
    "model.add(Dense(units=64, activation=None, input_shape=(28*28,)))\n",
    "model.add(Activation('relu'))\n",
    "model.add(Dense(units=10, activation='softmax'))\n",
    "\n",
    "model.compile(optimizer='rmsprop', loss='categorical_crossentropy', metrics=['accuracy'])"
   ]
  },
  {
   "cell_type": "code",
   "execution_count": 38,
   "metadata": {},
   "outputs": [
    {
     "name": "stdout",
     "output_type": "stream",
     "text": [
      "Train on 48000 samples, validate on 12000 samples\n",
      "Epoch 1/2\n",
      "48000/48000 [==============================] - 1s 29us/step - loss: 0.4351 - acc: 0.8832 - val_loss: 0.2528 - val_acc: 0.9303\n",
      "Epoch 2/2\n",
      "48000/48000 [==============================] - 1s 24us/step - loss: 0.2186 - acc: 0.9376 - val_loss: 0.1880 - val_acc: 0.9448\n"
     ]
    }
   ],
   "source": [
    "history = model.fit(x=train_images, y=train_labels,\n",
    "                    batch_size=128, epochs=2, shuffle=True,\n",
    "                    validation_data=(val_images, val_labels))"
   ]
  },
  {
   "cell_type": "code",
   "execution_count": 39,
   "metadata": {},
   "outputs": [
    {
     "name": "stdout",
     "output_type": "stream",
     "text": [
      "10000/10000 [==============================] - 0s 32us/step\n",
      "test_loss: 0.1845684148401022\n",
      "test_acc: 0.9452\n"
     ]
    }
   ],
   "source": [
    "test_loss, test_acc = model.evaluate(x=test_images, y=test_labels)\n",
    "print('test_loss: {}'.format(test_loss))\n",
    "print('test_acc: {}'.format(test_acc))"
   ]
  },
  {
   "cell_type": "code",
   "execution_count": 40,
   "metadata": {
    "collapsed": true
   },
   "outputs": [],
   "source": [
    "model_btch = Sequential()\n",
    "model_btch.add(Dense(units=64, activation=None, input_shape=(28*28,)))\n",
    "model_btch.add(BatchNormalization())\n",
    "model_btch.add(Activation('relu'))\n",
    "model_btch.add(Dense(units=10, activation='softmax'))\n",
    "\n",
    "model_btch.compile(optimizer='rmsprop', loss='categorical_crossentropy', metrics=['accuracy'])"
   ]
  },
  {
   "cell_type": "code",
   "execution_count": 41,
   "metadata": {},
   "outputs": [
    {
     "name": "stdout",
     "output_type": "stream",
     "text": [
      "Train on 48000 samples, validate on 12000 samples\n",
      "Epoch 1/2\n",
      "48000/48000 [==============================] - 2s 39us/step - loss: 0.3747 - acc: 0.9031 - val_loss: 0.1987 - val_acc: 0.9442\n",
      "Epoch 2/2\n",
      "48000/48000 [==============================] - 1s 28us/step - loss: 0.1749 - acc: 0.9515 - val_loss: 0.1488 - val_acc: 0.9572\n"
     ]
    }
   ],
   "source": [
    "history = model_btch.fit(x=train_images, y=train_labels,\n",
    "                         batch_size=128, epochs=2, shuffle=True,\n",
    "                         validation_data=(val_images, val_labels))"
   ]
  },
  {
   "cell_type": "code",
   "execution_count": 42,
   "metadata": {},
   "outputs": [
    {
     "name": "stdout",
     "output_type": "stream",
     "text": [
      "10000/10000 [==============================] - 0s 37us/step\n",
      "test_loss: 0.14679380712583662\n",
      "test_acc: 0.9568\n"
     ]
    }
   ],
   "source": [
    "test_loss, test_acc = model_btch.evaluate(x=test_images, y=test_labels)\n",
    "print('test_loss: {}'.format(test_loss))\n",
    "print('test_acc: {}'.format(test_acc))"
   ]
  },
  {
   "cell_type": "markdown",
   "metadata": {},
   "source": [
    "## 5. Regularization"
   ]
  },
  {
   "cell_type": "markdown",
   "metadata": {},
   "source": [
    "Optimization vs generalization.\n",
    "<br>\n",
    "\n",
    "Fight overfitting:\n",
    "- Get more data\n",
    "- Reduce the complexity of the network\n",
    "- Regularization methods\n"
   ]
  },
  {
   "cell_type": "code",
   "execution_count": 43,
   "metadata": {
    "collapsed": true
   },
   "outputs": [],
   "source": [
    "model = Sequential()\n",
    "model.add(Dense(units=512, activation='relu', input_shape=(28*28,)))\n",
    "model.add(Dense(units=512, activation='relu'))\n",
    "model.add(Dense(units=10, activation='softmax'))\n",
    "model.compile(optimizer='rmsprop', loss='categorical_crossentropy', metrics=['accuracy'])"
   ]
  },
  {
   "cell_type": "code",
   "execution_count": 44,
   "metadata": {
    "collapsed": true
   },
   "outputs": [],
   "source": [
    "history = model.fit(x=train_images, y=train_labels, batch_size=128,\n",
    "                    epochs=10, shuffle=True, verbose=0,\n",
    "                    validation_data=(val_images, val_labels))"
   ]
  },
  {
   "cell_type": "code",
   "execution_count": 45,
   "metadata": {},
   "outputs": [
    {
     "name": "stdout",
     "output_type": "stream",
     "text": [
      "10000/10000 [==============================] - 1s 66us/step\n",
      "test_loss: 0.12757095835194168\n",
      "test_acc: 0.977\n"
     ]
    }
   ],
   "source": [
    "test_loss, test_acc = model.evaluate(x=test_images, y=test_labels)\n",
    "print('test_loss: {}'.format(test_loss))\n",
    "print('test_acc: {}'.format(test_acc))"
   ]
  },
  {
   "cell_type": "code",
   "execution_count": 46,
   "metadata": {},
   "outputs": [
    {
     "data": {
      "image/png": "[encoded data removed]",
      "text/plain": [
       "<matplotlib.figure.Figure at 0x1a2f2ce9e8>"
      ]
     },
     "metadata": {},
     "output_type": "display_data"
    }
   ],
   "source": [
    "plot_training(history)"
   ]
  },
  {
   "cell_type": "markdown",
   "metadata": {},
   "source": [
    "Add dropout"
   ]
  },
  {
   "cell_type": "code",
   "execution_count": 47,
   "metadata": {
    "collapsed": true
   },
   "outputs": [],
   "source": [
    "model = Sequential()\n",
    "# model.add(Dense(units=512, activation='relu', kernel_regularizer=regularizers.l2(0.005), input_shape=(28*28,)))\n",
    "# model.add(Dense(units=512, activation='relu', kernel_regularizer=regularizers.l2(0.005)))\n",
    "model.add(Dense(units=512, activation='relu', input_shape=(28*28,)))\n",
    "model.add(Dropout(0.35))\n",
    "model.add(Dense(units=512, activation='relu'))\n",
    "model.add(Dropout(0.35))\n",
    "model.add(Dense(units=10, activation='softmax'))\n",
    "model.compile(optimizer='rmsprop', loss='categorical_crossentropy', metrics=['accuracy'])"
   ]
  },
  {
   "cell_type": "code",
   "execution_count": 48,
   "metadata": {
    "collapsed": true
   },
   "outputs": [],
   "source": [
    "history = model.fit(x=train_images, y=train_labels, batch_size=128,\n",
    "                    epochs=10, shuffle=True, verbose=0,\n",
    "                    validation_data=(val_images, val_labels))"
   ]
  },
  {
   "cell_type": "code",
   "execution_count": 49,
   "metadata": {},
   "outputs": [
    {
     "name": "stdout",
     "output_type": "stream",
     "text": [
      "10000/10000 [==============================] - 1s 66us/step\n",
      "test_loss: 0.0848513591782903\n",
      "test_acc: 0.9817\n"
     ]
    }
   ],
   "source": [
    "test_loss, test_acc = model.evaluate(x=test_images, y=test_labels)\n",
    "print('test_loss: {}'.format(test_loss))\n",
    "print('test_acc: {}'.format(test_acc))"
   ]
  },
  {
   "cell_type": "code",
   "execution_count": 50,
   "metadata": {},
   "outputs": [
    {
     "data": {
      "image/png": "[encoded data removed]",
      "text/plain": [
       "<matplotlib.figure.Figure at 0x1a2ff254e0>"
      ]
     },
     "metadata": {},
     "output_type": "display_data"
    }
   ],
   "source": [
    "plot_training(history)"
   ]
  }
 ],
 "metadata": {
  "kernelspec": {
   "display_name": "Python 3",
   "language": "python",
   "name": "python3"
  },
  "language_info": {
   "codemirror_mode": {
    "name": "ipython",
    "version": 3
   },
   "file_extension": ".py",
   "mimetype": "text/x-python",
   "name": "python",
   "nbconvert_exporter": "python",
   "pygments_lexer": "ipython3",
   "version": "3.5.4"
  }
 },
 "nbformat": 4,
 "nbformat_minor": 2
}
